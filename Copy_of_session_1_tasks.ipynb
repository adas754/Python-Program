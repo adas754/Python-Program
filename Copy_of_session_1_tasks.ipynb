{
  "nbformat": 4,
  "nbformat_minor": 0,
  "metadata": {
    "colab": {
      "provenance": []
    },
    "kernelspec": {
      "name": "python3",
      "display_name": "Python 3"
    },
    "language_info": {
      "name": "python"
    }
  },
  "cells": [
    {
      "cell_type": "markdown",
      "source": [
        "# Task : Session 1\n",
        "Solve these questions own your own and try to test yourself what you have learned in the session.\n",
        "\n",
        "Happy Learning!"
      ],
      "metadata": {
        "id": "A05OG15VqOPF"
      }
    },
    {
      "cell_type": "markdown",
      "source": [
        "### Q1 :- Print the given strings as per stated format.\n",
        "\n",
        "**Given strings**: \n",
        "```\n",
        "\"Data\" \"Science\" \"Mentorship\" \"Program\" \n",
        "\"By\" \"CampusX\"\n",
        "```\n",
        "**Output**: \n",
        "``` \n",
        "Data-Science-Mentorship-Program-started-By-CampusX\n",
        "```\n",
        "\n",
        "Concept- [Seperator and End]"
      ],
      "metadata": {
        "id": "2doIXf8bqe9_"
      }
    },
    {
      "cell_type": "code",
      "source": [
        "# Write your code here\n",
        "print(\"Data\",\"Science\",\"Mentorship\",\"Program\",sep='-',end='-started-')\n",
        "print(\"By\",\"CampusX\",sep='-')"
      ],
      "metadata": {
        "id": "-em6d3KErDtp",
        "colab": {
          "base_uri": "https://localhost:8080/"
        },
        "outputId": "e2fcfbf8-76a5-4531-bb9f-79b69bb76f14"
      },
      "execution_count": 3,
      "outputs": [
        {
          "output_type": "stream",
          "name": "stdout",
          "text": [
            "Data-Science-Mentorship-Program-started-By-CampusX\n"
          ]
        }
      ]
    },
    {
      "cell_type": "markdown",
      "source": [
        "### Q2:- Write a program that will convert celsius value to fahrenheit."
      ],
      "metadata": {
        "id": "1KUpN7ZTrC3_"
      }
    },
    {
      "cell_type": "code",
      "source": [
        "# Write your code here\n",
        "c=float(input())\n",
        "f=(c*1.8)+32\n",
        "print(\"farenhite is\",f)"
      ],
      "metadata": {
        "id": "yxKYhYQiqWfj",
        "colab": {
          "base_uri": "https://localhost:8080/"
        },
        "outputId": "a140c518-6e7d-49cd-a502-c89328568557"
      },
      "execution_count": 4,
      "outputs": [
        {
          "output_type": "stream",
          "name": "stdout",
          "text": [
            "150\n",
            "farenhite is 302.0\n"
          ]
        }
      ]
    },
    {
      "cell_type": "markdown",
      "source": [
        "### Q3:- Take 2 numbers as input from the user.Write a program to swap the numbers without using any special python syntax."
      ],
      "metadata": {
        "id": "RLrOBBJurLB2"
      }
    },
    {
      "cell_type": "code",
      "source": [
        "# Write your code here\n",
        "a=int(input())\n",
        "b=int(input())\n",
        "a=a+b\n",
        "b=a-b\n",
        "a=a-b\n",
        "print(\"After Swapping\",a,b)"
      ],
      "metadata": {
        "id": "yPn7if0TrJ4F",
        "colab": {
          "base_uri": "https://localhost:8080/"
        },
        "outputId": "e770770c-0776-493c-9b2a-aa0b6c8a4eca"
      },
      "execution_count": 5,
      "outputs": [
        {
          "output_type": "stream",
          "name": "stdout",
          "text": [
            "7\n",
            "9\n",
            "After Swapping 9 7\n"
          ]
        }
      ]
    },
    {
      "cell_type": "markdown",
      "source": [
        "### Q4:- Write a program to find the euclidean distance between two coordinates.Take both the coordinates from the user as input."
      ],
      "metadata": {
        "id": "waLCP1bjr7ML"
      }
    },
    {
      "cell_type": "code",
      "source": [
        "# Write your code here\n",
        "x1=int(input())\n",
        "x2=int(input())\n",
        "y1=int(input())\n",
        "y2=int(input())\n",
        "z=(((x2 - x1 )**2) + ((y2-y1)**2) )**0.5\n",
        "print(z)"
      ],
      "metadata": {
        "id": "Pl1Sv-xnrxnH",
        "colab": {
          "base_uri": "https://localhost:8080/"
        },
        "outputId": "cdb47bda-f03e-4a88-abc1-95dbdebc0524"
      },
      "execution_count": 6,
      "outputs": [
        {
          "output_type": "stream",
          "name": "stdout",
          "text": [
            "4\n",
            "6\n",
            "0\n",
            "6\n",
            "6.324555320336759\n"
          ]
        }
      ]
    },
    {
      "cell_type": "code",
      "source": [
        "p1x=int(input(\"enter x coordinate of 1st point\"))\n",
        "p1y=int(input(\"enter y coordinate 1st point\"))\n",
        "p2x=int(input(\"enter x coordinate 2nd point\"))\n",
        "p2y=int(input(\"enter y coordinate of 2nd point\"))\n",
        "distance=((p2x-p1x)**2+(p2y-p1y)**2)**0.5\n",
        "print(distance)"
      ],
      "metadata": {
        "colab": {
          "base_uri": "https://localhost:8080/"
        },
        "id": "icEta3wWJJG7",
        "outputId": "a39e817f-c9e8-4fbb-b6c0-fab55c21fe9a"
      },
      "execution_count": 7,
      "outputs": [
        {
          "output_type": "stream",
          "name": "stdout",
          "text": [
            "enter x coordinate of 1st point5\n",
            "enter y coordinate 1st point9\n",
            "enter x coordinate 2nd point8\n",
            "enter y coordinate of 2nd point7\n",
            "3.605551275463989\n"
          ]
        }
      ]
    },
    {
      "cell_type": "markdown",
      "source": [
        "### Q5:- Write a program to find the simple interest when the value of principle,rate of interest and time period is provided by the user.\n"
      ],
      "metadata": {
        "id": "VLrhg-FRsHjR"
      }
    },
    {
      "cell_type": "code",
      "source": [
        "# Write your code here\n",
        "p=int(input())\n",
        "r=int(input())\n",
        "t=float(input())\n",
        "i=(p*r*t)/100\n",
        "print(\"find the simple interest\",i)"
      ],
      "metadata": {
        "id": "s40DlReZsTmY",
        "colab": {
          "base_uri": "https://localhost:8080/"
        },
        "outputId": "addcd8d0-1a12-45b0-b128-b34becdd218d"
      },
      "execution_count": 8,
      "outputs": [
        {
          "output_type": "stream",
          "name": "stdout",
          "text": [
            "7\n",
            "8\n",
            "9\n",
            "find the simple interest 5.04\n"
          ]
        }
      ]
    },
    {
      "cell_type": "markdown",
      "source": [
        "### Q6:- Write a program that will tell the number of dogs and chicken are there when the user will provide the value of total heads and legs.\n",
        "\n",
        "For example:\n",
        "Input:\n",
        "heads -> 4\n",
        "legs -> 12\n",
        "<br>\n",
        "Output:\n",
        "dogs -> 2\n",
        "chicken -> 2\n",
        "\n",
        "\n",
        "\n"
      ],
      "metadata": {
        "id": "LMy0BTUktYKa"
      }
    },
    {
      "cell_type": "code",
      "source": [
        "# Write your code here\n",
        "def chicken_dog(heads,legs):\n",
        "  count=0\n",
        "  count=(legs)-2*(heads)\n",
        "  count=count/2\n",
        "  return count\n",
        "heads=4\n",
        "legs=12\n",
        "dog=chicken_dog(heads,legs)\n",
        "print(\"dog=\",dog)\n",
        "print(\"chicken=\",heads-dog)\n",
        "\n",
        "\n"
      ],
      "metadata": {
        "id": "XSBvJoA4tXaG",
        "colab": {
          "base_uri": "https://localhost:8080/"
        },
        "outputId": "a737ca10-01b0-47b8-a772-51e1848c1bfe"
      },
      "execution_count": 9,
      "outputs": [
        {
          "output_type": "stream",
          "name": "stdout",
          "text": [
            "dog= 2.0\n",
            "chicken= 2.0\n"
          ]
        }
      ]
    },
    {
      "cell_type": "markdown",
      "source": [
        "### Q7:- Write a program to find the sum of squares of first n natural numbers where n will be provided by the user."
      ],
      "metadata": {
        "id": "gJ7C5kZYt4BP"
      }
    },
    {
      "cell_type": "code",
      "source": [
        "# Write your code here\n",
        "def sum(n):\n",
        "  return (n*(n+1)*(2*n+1)/6)\n",
        "sum(5)"
      ],
      "metadata": {
        "id": "_tHsmEHzt2nX",
        "colab": {
          "base_uri": "https://localhost:8080/"
        },
        "outputId": "6e23298d-be37-4ccb-f9c4-2b051c89224a"
      },
      "execution_count": 10,
      "outputs": [
        {
          "output_type": "execute_result",
          "data": {
            "text/plain": [
              "55.0"
            ]
          },
          "metadata": {},
          "execution_count": 10
        }
      ]
    },
    {
      "cell_type": "markdown",
      "source": [
        "### Q8:- Given the first 2 terms of an Arithmetic Series.Find the Nth term of the series. Assume all inputs are provided by the user."
      ],
      "metadata": {
        "id": "FHrMM7g-yG1h"
      }
    },
    {
      "cell_type": "code",
      "source": [
        "# Write your code here\n",
        "first_term=int(input(\"enter 1st term\"))\n",
        "second_term=int(input(\"enter 2nd term\"))\n",
        "n=int(input())\n",
        "d=-first_term+second_term\n",
        "an=first_term+(n-1)*d\n",
        "print(an)"
      ],
      "metadata": {
        "id": "go4_kmZmyVSx",
        "colab": {
          "base_uri": "https://localhost:8080/"
        },
        "outputId": "1f98e2bb-7a2f-400f-ecfe-77df8debc087"
      },
      "execution_count": 12,
      "outputs": [
        {
          "output_type": "stream",
          "name": "stdout",
          "text": [
            "enter 1st term3\n",
            "enter 2nd term6\n",
            "5\n",
            "15\n"
          ]
        }
      ]
    },
    {
      "cell_type": "markdown",
      "source": [
        "### Q9:- Given 2 fractions, find the sum of those 2 fractions.Take the numerator and denominator values of the fractions from the user."
      ],
      "metadata": {
        "id": "QgyRX_es1oum"
      }
    },
    {
      "cell_type": "code",
      "source": [
        "# Write your code here\n",
        "a=int(input())\n",
        "b=int(input())\n",
        "c=int(input())\n",
        "d=int(input())\n",
        "r1=(a*d)+(b*c)\n",
        "r2=(b*d)\n",
        "print(\"the fraction of two number\",r1/r2)\n"
      ],
      "metadata": {
        "id": "X05xqFS1yW16",
        "outputId": "4493079f-8940-48df-9a04-a3b9c9faafe6",
        "colab": {
          "base_uri": "https://localhost:8080/"
        }
      },
      "execution_count": 13,
      "outputs": [
        {
          "output_type": "stream",
          "name": "stdout",
          "text": [
            "2\n",
            "3\n",
            "3\n",
            "7\n",
            "the fraction of two number 1.0952380952380953\n"
          ]
        }
      ]
    },
    {
      "cell_type": "markdown",
      "source": [
        "### Q10:- Given the height, width and breadth of a milk tank, you have to find out how many glasses of milk can be obtained? Assume all the inputs are provided by the user.\n",
        "\n",
        "\n",
        "\n",
        "Input:<br>\n",
        "Dimensions of the milk tank<br>\n",
        "H = 20cm, L = 20cm, B = 20cm\n",
        "<br><br>\n",
        "Dimensions of the glass<br>\n",
        "h = 3cm, r = 1cm"
      ],
      "metadata": {
        "id": "eaql38ln13u7"
      }
    },
    {
      "cell_type": "code",
      "source": [
        "# Write your code here\n",
        "import math\n",
        "h_t=float(input(\"height\"))\n",
        "b_t=float(input(\"bredth\"))\n",
        "l_t=float(input(\"length\"))\n",
        "h_g=float(input(\"hight of glass\"))\n",
        "r_g=float(input(\"radius of glass\"))\n",
        "vol_tank=h_t*b_t*l_t\n",
        "vol_glass=3.14*r_g*r_g*h_g\n",
        "print(\"no of glasses\",math.floor(vol_tank/vol_glass))"
      ],
      "metadata": {
        "id": "FePZqno74eWv",
        "colab": {
          "base_uri": "https://localhost:8080/"
        },
        "outputId": "538be29c-fcc4-431f-9f9d-37db93108ba1"
      },
      "execution_count": 14,
      "outputs": [
        {
          "output_type": "stream",
          "name": "stdout",
          "text": [
            "height10\n",
            "bredth9\n",
            "length10\n",
            "hight of glass5\n",
            "radius of glass2\n",
            "no of glasses 14\n"
          ]
        }
      ]
    }
  ]
}